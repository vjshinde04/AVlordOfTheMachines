{
 "cells": [
  {
   "cell_type": "code",
   "execution_count": 2,
   "metadata": {},
   "outputs": [],
   "source": [
    "import pandas as pd\n",
    "import matplotlib.pyplot as plt\n",
    "\n",
    "tr = pd.read_csv('train/train.csv')\n",
    "te = pd.read_csv('test/test_BDIfz5B.csv')\n",
    "campaignData = pd.read_csv('train/campaign_data.csv')"
   ]
  },
  {
   "cell_type": "code",
   "execution_count": 3,
   "metadata": {},
   "outputs": [
    {
     "data": {
      "text/plain": [
       "campaign_id              int64\n",
       "communication_type      object\n",
       "total_links              int64\n",
       "no_of_internal_links     int64\n",
       "no_of_images             int64\n",
       "no_of_sections           int64\n",
       "email_body              object\n",
       "subject                 object\n",
       "email_url               object\n",
       "dtype: object"
      ]
     },
     "execution_count": 3,
     "metadata": {},
     "output_type": "execute_result"
    }
   ],
   "source": [
    "campaignData.dtypes"
   ]
  },
  {
   "cell_type": "markdown",
   "metadata": {},
   "source": [
    "<h1>Parsing text data"
   ]
  },
  {
   "cell_type": "code",
   "execution_count": 72,
   "metadata": {},
   "outputs": [
    {
     "data": {
      "text/plain": [
       "array(['Newsletter', 'Upcoming Events', 'Conference', 'Others', 'Webinar',\n",
       "       'Corporate', 'Hackathon'], dtype=object)"
      ]
     },
     "execution_count": 72,
     "metadata": {},
     "output_type": "execute_result"
    }
   ],
   "source": [
    "campaignData['communication_type'].unique()"
   ]
  },
  {
   "cell_type": "code",
   "execution_count": 4,
   "metadata": {},
   "outputs": [
    {
     "name": "stdout",
     "output_type": "stream",
     "text": [
      "int64\n"
     ]
    },
    {
     "data": {
      "text/html": [
       "<div>\n",
       "<style scoped>\n",
       "    .dataframe tbody tr th:only-of-type {\n",
       "        vertical-align: middle;\n",
       "    }\n",
       "\n",
       "    .dataframe tbody tr th {\n",
       "        vertical-align: top;\n",
       "    }\n",
       "\n",
       "    .dataframe thead th {\n",
       "        text-align: right;\n",
       "    }\n",
       "</style>\n",
       "<table border=\"1\" class=\"dataframe\">\n",
       "  <thead>\n",
       "    <tr style=\"text-align: right;\">\n",
       "      <th></th>\n",
       "      <th>commType</th>\n",
       "      <th>communication_type</th>\n",
       "    </tr>\n",
       "  </thead>\n",
       "  <tbody>\n",
       "    <tr>\n",
       "      <th>16</th>\n",
       "      <td>2</td>\n",
       "      <td>Hackathon</td>\n",
       "    </tr>\n",
       "    <tr>\n",
       "      <th>23</th>\n",
       "      <td>3</td>\n",
       "      <td>Newsletter</td>\n",
       "    </tr>\n",
       "    <tr>\n",
       "      <th>40</th>\n",
       "      <td>2</td>\n",
       "      <td>Hackathon</td>\n",
       "    </tr>\n",
       "    <tr>\n",
       "      <th>1</th>\n",
       "      <td>5</td>\n",
       "      <td>Upcoming Events</td>\n",
       "    </tr>\n",
       "    <tr>\n",
       "      <th>49</th>\n",
       "      <td>2</td>\n",
       "      <td>Hackathon</td>\n",
       "    </tr>\n",
       "  </tbody>\n",
       "</table>\n",
       "</div>"
      ],
      "text/plain": [
       "    commType communication_type\n",
       "16         2          Hackathon\n",
       "23         3         Newsletter\n",
       "40         2          Hackathon\n",
       "1          5    Upcoming Events\n",
       "49         2          Hackathon"
      ]
     },
     "execution_count": 4,
     "metadata": {},
     "output_type": "execute_result"
    }
   ],
   "source": [
    "from sklearn.preprocessing import LabelEncoder\n",
    "\n",
    "comType = LabelEncoder()\n",
    "campaignData['commType'] = comType.fit_transform(campaignData['communication_type'])\n",
    "print(campaignData['commType'].dtypes)\n",
    "campaignData[['commType', 'communication_type']].sample(5)"
   ]
  },
  {
   "cell_type": "code",
   "execution_count": null,
   "metadata": {},
   "outputs": [],
   "source": []
  },
  {
   "cell_type": "code",
   "execution_count": null,
   "metadata": {},
   "outputs": [],
   "source": []
  },
  {
   "cell_type": "code",
   "execution_count": null,
   "metadata": {},
   "outputs": [],
   "source": []
  },
  {
   "cell_type": "markdown",
   "metadata": {},
   "source": [
    "<h1>Getting a taste</h1>"
   ]
  },
  {
   "cell_type": "code",
   "execution_count": 47,
   "metadata": {},
   "outputs": [
    {
     "data": {
      "text/plain": [
       "id                      object\n",
       "campaign_id              int64\n",
       "send_date               object\n",
       "communication_type      object\n",
       "total_links              int64\n",
       "no_of_internal_links     int64\n",
       "no_of_images             int64\n",
       "no_of_sections           int64\n",
       "email_body              object\n",
       "subject                 object\n",
       "email_url               object\n",
       "commType                 int64\n",
       "dtype: object"
      ]
     },
     "execution_count": 47,
     "metadata": {},
     "output_type": "execute_result"
    }
   ],
   "source": [
    "X = pd.merge(tr.iloc[:, [0,2,3]], campaignData, how='left', on='campaign_id')\n",
    "X.dtypes"
   ]
  },
  {
   "cell_type": "code",
   "execution_count": 49,
   "metadata": {},
   "outputs": [
    {
     "name": "stdout",
     "output_type": "stream",
     "text": [
      "548446   2017-11-06 22:58:00\n",
      "Name: parsedDateTime, dtype: datetime64[ns]\n"
     ]
    },
    {
     "data": {
      "text/plain": [
       "id                              object\n",
       "campaign_id                      int64\n",
       "send_date                       object\n",
       "communication_type              object\n",
       "total_links                      int64\n",
       "no_of_internal_links             int64\n",
       "no_of_images                     int64\n",
       "no_of_sections                   int64\n",
       "email_body                      object\n",
       "subject                         object\n",
       "email_url                       object\n",
       "commType                         int64\n",
       "parsedDateTime          datetime64[ns]\n",
       "hourSent                         int64\n",
       "dtype: object"
      ]
     },
     "execution_count": 49,
     "metadata": {},
     "output_type": "execute_result"
    }
   ],
   "source": [
    "X['parsedDateTime'] = pd.to_datetime(X['send_date'], format='%d-%m-%Y %H:%M')\n",
    "print(X['parsedDateTime'].sample())\n",
    "\n",
    "X['hourSent'] = X['parsedDateTime'].dt.hour\n",
    "X.dtypes"
   ]
  },
  {
   "cell_type": "code",
   "execution_count": 37,
   "metadata": {
    "scrolled": true
   },
   "outputs": [
    {
     "data": {
      "text/plain": [
       "id                      object\n",
       "campaign_id              int64\n",
       "total_links              int64\n",
       "no_of_internal_links     int64\n",
       "no_of_images             int64\n",
       "no_of_sections           int64\n",
       "commType                 int64\n",
       "hourSent                 int64\n",
       "dtype: object"
      ]
     },
     "execution_count": 37,
     "metadata": {},
     "output_type": "execute_result"
    }
   ],
   "source": [
    "del X['subject']\n",
    "del X['email_url']\n",
    "del X['email_body']\n",
    "del X['communication_type']\n",
    "del X['send_date']\n",
    "del X['parsedDateTime']\n",
    "X.dtypes"
   ]
  },
  {
   "cell_type": "code",
   "execution_count": 41,
   "metadata": {},
   "outputs": [],
   "source": [
    "y = tr['is_click']"
   ]
  },
  {
   "cell_type": "code",
   "execution_count": 42,
   "metadata": {},
   "outputs": [
    {
     "data": {
      "text/html": [
       "<div>\n",
       "<style scoped>\n",
       "    .dataframe tbody tr th:only-of-type {\n",
       "        vertical-align: middle;\n",
       "    }\n",
       "\n",
       "    .dataframe tbody tr th {\n",
       "        vertical-align: top;\n",
       "    }\n",
       "\n",
       "    .dataframe thead th {\n",
       "        text-align: right;\n",
       "    }\n",
       "</style>\n",
       "<table border=\"1\" class=\"dataframe\">\n",
       "  <thead>\n",
       "    <tr style=\"text-align: right;\">\n",
       "      <th></th>\n",
       "      <th>campaign_id</th>\n",
       "      <th>total_links</th>\n",
       "      <th>no_of_internal_links</th>\n",
       "      <th>no_of_images</th>\n",
       "      <th>no_of_sections</th>\n",
       "      <th>commType</th>\n",
       "      <th>hourSent</th>\n",
       "    </tr>\n",
       "  </thead>\n",
       "  <tbody>\n",
       "    <tr>\n",
       "      <th>516824</th>\n",
       "      <td>42</td>\n",
       "      <td>88</td>\n",
       "      <td>79</td>\n",
       "      <td>13</td>\n",
       "      <td>4</td>\n",
       "      <td>3</td>\n",
       "      <td>20</td>\n",
       "    </tr>\n",
       "    <tr>\n",
       "      <th>32192</th>\n",
       "      <td>30</td>\n",
       "      <td>18</td>\n",
       "      <td>14</td>\n",
       "      <td>7</td>\n",
       "      <td>1</td>\n",
       "      <td>5</td>\n",
       "      <td>14</td>\n",
       "    </tr>\n",
       "  </tbody>\n",
       "</table>\n",
       "</div>"
      ],
      "text/plain": [
       "        campaign_id  total_links  no_of_internal_links  no_of_images  \\\n",
       "516824           42           88                    79            13   \n",
       "32192            30           18                    14             7   \n",
       "\n",
       "        no_of_sections  commType  hourSent  \n",
       "516824               4         3        20  \n",
       "32192                1         5        14  "
      ]
     },
     "execution_count": 42,
     "metadata": {},
     "output_type": "execute_result"
    }
   ],
   "source": [
    "X.iloc[:,1:].sample(2)"
   ]
  },
  {
   "cell_type": "code",
   "execution_count": 43,
   "metadata": {},
   "outputs": [
    {
     "name": "stderr",
     "output_type": "stream",
     "text": [
      "C:\\Anaconda3\\lib\\site-packages\\sklearn\\linear_model\\stochastic_gradient.py:128: FutureWarning: max_iter and tol parameters have been added in <class 'sklearn.linear_model.stochastic_gradient.SGDClassifier'> in 0.19. If both are left unset, they default to max_iter=5 and tol=None. If tol is not None, max_iter defaults to max_iter=1000. From 0.21, default max_iter will be 1000, and default tol will be 1e-3.\n",
      "  \"and default tol will be 1e-3.\" % type(self), FutureWarning)\n"
     ]
    },
    {
     "data": {
      "text/plain": [
       "SGDClassifier(alpha=0.0001, average=False, class_weight=None, epsilon=0.1,\n",
       "       eta0=0.0, fit_intercept=True, l1_ratio=0.15,\n",
       "       learning_rate='optimal', loss='hinge', max_iter=None, n_iter=None,\n",
       "       n_jobs=1, penalty='l2', power_t=0.5, random_state=None,\n",
       "       shuffle=True, tol=None, verbose=0, warm_start=False)"
      ]
     },
     "execution_count": 43,
     "metadata": {},
     "output_type": "execute_result"
    }
   ],
   "source": [
    "from sklearn.linear_model import SGDClassifier\n",
    "clf = SGDClassifier(loss='hinge', penalty='l2')\n",
    "clf.fit(X.iloc[:,1:],y)"
   ]
  },
  {
   "cell_type": "code",
   "execution_count": 44,
   "metadata": {},
   "outputs": [
    {
     "data": {
      "text/plain": [
       "campaign_id              int64\n",
       "communication_type      object\n",
       "total_links              int64\n",
       "no_of_internal_links     int64\n",
       "no_of_images             int64\n",
       "no_of_sections           int64\n",
       "email_body              object\n",
       "subject                 object\n",
       "email_url               object\n",
       "commType                 int64\n",
       "dtype: object"
      ]
     },
     "execution_count": 44,
     "metadata": {},
     "output_type": "execute_result"
    }
   ],
   "source": [
    "campaignData.dtypes"
   ]
  },
  {
   "cell_type": "code",
   "execution_count": 51,
   "metadata": {},
   "outputs": [
    {
     "data": {
      "text/plain": [
       "id                      object\n",
       "campaign_id              int64\n",
       "send_date               object\n",
       "total_links              int64\n",
       "no_of_internal_links     int64\n",
       "no_of_images             int64\n",
       "no_of_sections           int64\n",
       "commType                 int64\n",
       "dtype: object"
      ]
     },
     "execution_count": 51,
     "metadata": {},
     "output_type": "execute_result"
    }
   ],
   "source": [
    "test = pd.merge(te.iloc[:, [0,1,3]], campaignData.iloc[:, [0,2,3,4,5,9]], how='left', on='campaign_id')\n",
    "test.dtypes"
   ]
  },
  {
   "cell_type": "code",
   "execution_count": 52,
   "metadata": {},
   "outputs": [
    {
     "name": "stdout",
     "output_type": "stream",
     "text": [
      "234460   2018-01-02 08:19:00\n",
      "Name: parsedDateTime, dtype: datetime64[ns]\n"
     ]
    },
    {
     "data": {
      "text/plain": [
       "id                              object\n",
       "campaign_id                      int64\n",
       "send_date                       object\n",
       "total_links                      int64\n",
       "no_of_internal_links             int64\n",
       "no_of_images                     int64\n",
       "no_of_sections                   int64\n",
       "commType                         int64\n",
       "parsedDateTime          datetime64[ns]\n",
       "hourSent                         int64\n",
       "dtype: object"
      ]
     },
     "execution_count": 52,
     "metadata": {},
     "output_type": "execute_result"
    }
   ],
   "source": [
    "test['parsedDateTime'] = pd.to_datetime(test['send_date'], format='%d-%m-%Y %H:%M')\n",
    "print(test['parsedDateTime'].sample())\n",
    "\n",
    "test['hourSent'] = test['parsedDateTime'].dt.hour\n",
    "test.dtypes"
   ]
  },
  {
   "cell_type": "code",
   "execution_count": 53,
   "metadata": {},
   "outputs": [
    {
     "data": {
      "text/plain": [
       "id                      object\n",
       "campaign_id              int64\n",
       "total_links              int64\n",
       "no_of_internal_links     int64\n",
       "no_of_images             int64\n",
       "no_of_sections           int64\n",
       "commType                 int64\n",
       "hourSent                 int64\n",
       "dtype: object"
      ]
     },
     "execution_count": 53,
     "metadata": {},
     "output_type": "execute_result"
    }
   ],
   "source": [
    "del test['send_date']\n",
    "del test['parsedDateTime']\n",
    "test.dtypes"
   ]
  },
  {
   "cell_type": "code",
   "execution_count": 54,
   "metadata": {},
   "outputs": [
    {
     "data": {
      "text/html": [
       "<div>\n",
       "<style scoped>\n",
       "    .dataframe tbody tr th:only-of-type {\n",
       "        vertical-align: middle;\n",
       "    }\n",
       "\n",
       "    .dataframe tbody tr th {\n",
       "        vertical-align: top;\n",
       "    }\n",
       "\n",
       "    .dataframe thead th {\n",
       "        text-align: right;\n",
       "    }\n",
       "</style>\n",
       "<table border=\"1\" class=\"dataframe\">\n",
       "  <thead>\n",
       "    <tr style=\"text-align: right;\">\n",
       "      <th></th>\n",
       "      <th>campaign_id</th>\n",
       "      <th>total_links</th>\n",
       "      <th>no_of_internal_links</th>\n",
       "      <th>no_of_images</th>\n",
       "      <th>no_of_sections</th>\n",
       "      <th>commType</th>\n",
       "      <th>hourSent</th>\n",
       "    </tr>\n",
       "  </thead>\n",
       "  <tbody>\n",
       "    <tr>\n",
       "      <th>357966</th>\n",
       "      <td>74</td>\n",
       "      <td>140</td>\n",
       "      <td>130</td>\n",
       "      <td>15</td>\n",
       "      <td>4</td>\n",
       "      <td>3</td>\n",
       "      <td>21</td>\n",
       "    </tr>\n",
       "    <tr>\n",
       "      <th>422368</th>\n",
       "      <td>64</td>\n",
       "      <td>49</td>\n",
       "      <td>45</td>\n",
       "      <td>14</td>\n",
       "      <td>4</td>\n",
       "      <td>5</td>\n",
       "      <td>15</td>\n",
       "    </tr>\n",
       "  </tbody>\n",
       "</table>\n",
       "</div>"
      ],
      "text/plain": [
       "        campaign_id  total_links  no_of_internal_links  no_of_images  \\\n",
       "357966           74          140                   130            15   \n",
       "422368           64           49                    45            14   \n",
       "\n",
       "        no_of_sections  commType  hourSent  \n",
       "357966               4         3        21  \n",
       "422368               4         5        15  "
      ]
     },
     "execution_count": 54,
     "metadata": {},
     "output_type": "execute_result"
    }
   ],
   "source": [
    "test.iloc[:,1:].sample(2)"
   ]
  },
  {
   "cell_type": "code",
   "execution_count": 55,
   "metadata": {},
   "outputs": [],
   "source": [
    "result = clf.predict(test.iloc[:,1:])"
   ]
  },
  {
   "cell_type": "code",
   "execution_count": 56,
   "metadata": {},
   "outputs": [
    {
     "data": {
      "text/plain": [
       "(773858,)"
      ]
     },
     "execution_count": 56,
     "metadata": {},
     "output_type": "execute_result"
    }
   ],
   "source": [
    "result.shape"
   ]
  },
  {
   "cell_type": "code",
   "execution_count": 142,
   "metadata": {},
   "outputs": [],
   "source": [
    "#pd.Dataframe(result, columns=['result']).to_csv('C:\\code\\AVlordOfTheMachines\\resultSGDClassifier.csv', index=False)\n",
    "\n",
    "#prediction = pd.DataFrame(predictions, columns=['predictions']).to_csv('prediction.csv')\n",
    "\n",
    "#import numpy as np\n",
    "#np.savetxt('resultSGDClassifier.csv', result, delimiter=',')"
   ]
  },
  {
   "cell_type": "code",
   "execution_count": 59,
   "metadata": {},
   "outputs": [],
   "source": [
    "pd.DataFrame(result, columns=['is_click']).to_csv('resultSGDClassifierV2.csv')"
   ]
  },
  {
   "cell_type": "code",
   "execution_count": 60,
   "metadata": {},
   "outputs": [],
   "source": [
    "pd.DataFrame(test['id'], columns=['id']).to_csv('1.csv')"
   ]
  }
 ],
 "metadata": {
  "kernelspec": {
   "display_name": "Python 3",
   "language": "python",
   "name": "python3"
  },
  "language_info": {
   "codemirror_mode": {
    "name": "ipython",
    "version": 3
   },
   "file_extension": ".py",
   "mimetype": "text/x-python",
   "name": "python",
   "nbconvert_exporter": "python",
   "pygments_lexer": "ipython3",
   "version": "3.6.4"
  }
 },
 "nbformat": 4,
 "nbformat_minor": 2
}
